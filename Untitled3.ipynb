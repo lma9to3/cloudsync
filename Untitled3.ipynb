{
  "nbformat": 4,
  "nbformat_minor": 0,
  "metadata": {
    "colab": {
      "provenance": [],
      "authorship_tag": "ABX9TyOFOzCGz81AmIAMVfsMER0/",
      "include_colab_link": true
    },
    "kernelspec": {
      "name": "python3",
      "display_name": "Python 3"
    },
    "language_info": {
      "name": "python"
    }
  },
  "cells": [
    {
      "cell_type": "markdown",
      "metadata": {
        "id": "view-in-github",
        "colab_type": "text"
      },
      "source": [
        "<a href=\"https://colab.research.google.com/github/lma9to3/cloudsync/blob/main/Untitled3.ipynb\" target=\"_parent\"><img src=\"https://colab.research.google.com/assets/colab-badge.svg\" alt=\"Open In Colab\"/></a>"
      ]
    },
    {
      "cell_type": "code",
      "execution_count": 1,
      "metadata": {
        "colab": {
          "base_uri": "https://localhost:8080/"
        },
        "id": "BAIV1OHYjQM_",
        "outputId": "9ee0ee87-7425-440d-cba5-5a1f2be06b1c"
      },
      "outputs": [
        {
          "output_type": "stream",
          "name": "stdout",
          "text": [
            "Directories are set up.\n"
          ]
        }
      ],
      "source": [
        "import os\n",
        "\n",
        "base_dir = '~/sync_task'\n",
        "cache_dir = os.path.join(base_dir, 'cache')\n",
        "tmp_dir = os.path.join(base_dir, 'tmp')\n",
        "\n",
        "# Ensure directories exist\n",
        "for dir_path in [base_dir, cache_dir, tmp_dir]:\n",
        "    os.makedirs(os.path.expanduser(dir_path), exist_ok=True)\n",
        "\n",
        "print(\"Directories are set up.\")"
      ]
    },
    {
      "cell_type": "code",
      "source": [
        "!curl https://rclone.org/install.sh | sudo bash"
      ],
      "metadata": {
        "colab": {
          "base_uri": "https://localhost:8080/"
        },
        "id": "BWs_2Kk3jjxo",
        "outputId": "b808d8f1-7e3c-4009-b551-181ce373d2a8"
      },
      "execution_count": 2,
      "outputs": [
        {
          "output_type": "stream",
          "name": "stdout",
          "text": [
            "  % Total    % Received % Xferd  Average Speed   Time    Time     Time  Current\n",
            "                                 Dload  Upload   Total   Spent    Left  Speed\n",
            "100  4734  100  4734    0     0   9137      0 --:--:-- --:--:-- --:--:--  9138\n",
            "Archive:  rclone-current-linux-amd64.zip\n",
            "   creating: tmp_unzip_dir_for_rclone/rclone-v1.68.1-linux-amd64/\n",
            "  inflating: tmp_unzip_dir_for_rclone/rclone-v1.68.1-linux-amd64/README.html  [text]  \n",
            "  inflating: tmp_unzip_dir_for_rclone/rclone-v1.68.1-linux-amd64/rclone.1  [text]  \n",
            "  inflating: tmp_unzip_dir_for_rclone/rclone-v1.68.1-linux-amd64/README.txt  [text]  \n",
            "  inflating: tmp_unzip_dir_for_rclone/rclone-v1.68.1-linux-amd64/rclone  [binary]\n",
            "  inflating: tmp_unzip_dir_for_rclone/rclone-v1.68.1-linux-amd64/git-log.txt  [text]  \n",
            "Purging old database entries in /usr/share/man...\n",
            "Processing manual pages under /usr/share/man...\n",
            "Updating index cache for path `/usr/share/man/man1'. Wait...done.\n",
            "Checking for stray cats under /usr/share/man...\n",
            "Checking for stray cats under /var/cache/man...\n",
            "Purging old database entries in /usr/share/man/it...\n",
            "Processing manual pages under /usr/share/man/it...\n",
            "Purging old database entries in /usr/share/man/ja...\n",
            "Processing manual pages under /usr/share/man/ja...\n",
            "Purging old database entries in /usr/share/man/es...\n",
            "Processing manual pages under /usr/share/man/es...\n",
            "Purging old database entries in /usr/share/man/tr...\n",
            "Processing manual pages under /usr/share/man/tr...\n",
            "Purging old database entries in /usr/share/man/zh_CN...\n",
            "Processing manual pages under /usr/share/man/zh_CN...\n",
            "Purging old database entries in /usr/share/man/sv...\n",
            "Processing manual pages under /usr/share/man/sv...\n",
            "Purging old database entries in /usr/share/man/ru...\n",
            "Processing manual pages under /usr/share/man/ru...\n",
            "Purging old database entries in /usr/share/man/pl...\n",
            "Processing manual pages under /usr/share/man/pl...\n",
            "Purging old database entries in /usr/share/man/id...\n",
            "Processing manual pages under /usr/share/man/id...\n",
            "Purging old database entries in /usr/share/man/fr...\n",
            "Processing manual pages under /usr/share/man/fr...\n",
            "Purging old database entries in /usr/share/man/sl...\n",
            "Processing manual pages under /usr/share/man/sl...\n",
            "Purging old database entries in /usr/share/man/ko...\n",
            "Processing manual pages under /usr/share/man/ko...\n",
            "Purging old database entries in /usr/share/man/hu...\n",
            "Processing manual pages under /usr/share/man/hu...\n",
            "Purging old database entries in /usr/share/man/nl...\n",
            "Processing manual pages under /usr/share/man/nl...\n",
            "Purging old database entries in /usr/share/man/cs...\n",
            "Processing manual pages under /usr/share/man/cs...\n",
            "Purging old database entries in /usr/share/man/pt...\n",
            "Processing manual pages under /usr/share/man/pt...\n",
            "Purging old database entries in /usr/share/man/pt_BR...\n",
            "Processing manual pages under /usr/share/man/pt_BR...\n",
            "Purging old database entries in /usr/share/man/da...\n",
            "Processing manual pages under /usr/share/man/da...\n",
            "Purging old database entries in /usr/share/man/de...\n",
            "Processing manual pages under /usr/share/man/de...\n",
            "Purging old database entries in /usr/share/man/zh_TW...\n",
            "Processing manual pages under /usr/share/man/zh_TW...\n",
            "Purging old database entries in /usr/share/man/uk...\n",
            "Processing manual pages under /usr/share/man/uk...\n",
            "Purging old database entries in /usr/share/man/ro...\n",
            "Processing manual pages under /usr/share/man/ro...\n",
            "Purging old database entries in /usr/share/man/sr...\n",
            "Processing manual pages under /usr/share/man/sr...\n",
            "Processing manual pages under /usr/local/man...\n",
            "mandb: can't update index cache /var/cache/man/oldlocal/1069: No such file or directory\n",
            "Updating index cache for path `/usr/local/man/man1'. Wait...done.\n",
            "Checking for stray cats under /usr/local/man...\n",
            "Checking for stray cats under /var/cache/man/oldlocal...\n",
            "2 man subdirectories contained newer manual pages.\n",
            "53 manual pages were added.\n",
            "0 stray cats were added.\n",
            "17 old database entries were purged.\n",
            "\n",
            "rclone v1.68.1 has successfully installed.\n",
            "Now run \"rclone config\" for setup. Check https://rclone.org/docs/ for more details.\n",
            "\n"
          ]
        }
      ]
    },
    {
      "cell_type": "code",
      "source": [
        "from google.colab import files\n",
        "\n",
        "# Upload the rclone config file\n",
        "uploaded = files.upload()\n",
        "\n",
        "# Check if the correct file was uploaded and move it to the sync_task directory\n",
        "for fn in uploaded.keys():\n",
        "    if \"rclone.conf\" in fn:\n",
        "        print('User uploaded rclone config file.')\n",
        "        !mv rclone.conf ~/sync_task/rclone.conf\n",
        "        print(\"rclone configuration moved to ~/sync_task/\")\n",
        "    else:\n",
        "        print(f'Unexpected file \"{fn}\". Please upload rclone.conf.')"
      ],
      "metadata": {
        "colab": {
          "base_uri": "https://localhost:8080/",
          "height": 108
        },
        "id": "TZwZ19omjwKj",
        "outputId": "d5edac23-a875-406b-82d6-a820511a7271"
      },
      "execution_count": 3,
      "outputs": [
        {
          "output_type": "display_data",
          "data": {
            "text/plain": [
              "<IPython.core.display.HTML object>"
            ],
            "text/html": [
              "\n",
              "     <input type=\"file\" id=\"files-b71b89ee-bc69-4bff-af15-f61f7f3d47c2\" name=\"files[]\" multiple disabled\n",
              "        style=\"border:none\" />\n",
              "     <output id=\"result-b71b89ee-bc69-4bff-af15-f61f7f3d47c2\">\n",
              "      Upload widget is only available when the cell has been executed in the\n",
              "      current browser session. Please rerun this cell to enable.\n",
              "      </output>\n",
              "      <script>// Copyright 2017 Google LLC\n",
              "//\n",
              "// Licensed under the Apache License, Version 2.0 (the \"License\");\n",
              "// you may not use this file except in compliance with the License.\n",
              "// You may obtain a copy of the License at\n",
              "//\n",
              "//      http://www.apache.org/licenses/LICENSE-2.0\n",
              "//\n",
              "// Unless required by applicable law or agreed to in writing, software\n",
              "// distributed under the License is distributed on an \"AS IS\" BASIS,\n",
              "// WITHOUT WARRANTIES OR CONDITIONS OF ANY KIND, either express or implied.\n",
              "// See the License for the specific language governing permissions and\n",
              "// limitations under the License.\n",
              "\n",
              "/**\n",
              " * @fileoverview Helpers for google.colab Python module.\n",
              " */\n",
              "(function(scope) {\n",
              "function span(text, styleAttributes = {}) {\n",
              "  const element = document.createElement('span');\n",
              "  element.textContent = text;\n",
              "  for (const key of Object.keys(styleAttributes)) {\n",
              "    element.style[key] = styleAttributes[key];\n",
              "  }\n",
              "  return element;\n",
              "}\n",
              "\n",
              "// Max number of bytes which will be uploaded at a time.\n",
              "const MAX_PAYLOAD_SIZE = 100 * 1024;\n",
              "\n",
              "function _uploadFiles(inputId, outputId) {\n",
              "  const steps = uploadFilesStep(inputId, outputId);\n",
              "  const outputElement = document.getElementById(outputId);\n",
              "  // Cache steps on the outputElement to make it available for the next call\n",
              "  // to uploadFilesContinue from Python.\n",
              "  outputElement.steps = steps;\n",
              "\n",
              "  return _uploadFilesContinue(outputId);\n",
              "}\n",
              "\n",
              "// This is roughly an async generator (not supported in the browser yet),\n",
              "// where there are multiple asynchronous steps and the Python side is going\n",
              "// to poll for completion of each step.\n",
              "// This uses a Promise to block the python side on completion of each step,\n",
              "// then passes the result of the previous step as the input to the next step.\n",
              "function _uploadFilesContinue(outputId) {\n",
              "  const outputElement = document.getElementById(outputId);\n",
              "  const steps = outputElement.steps;\n",
              "\n",
              "  const next = steps.next(outputElement.lastPromiseValue);\n",
              "  return Promise.resolve(next.value.promise).then((value) => {\n",
              "    // Cache the last promise value to make it available to the next\n",
              "    // step of the generator.\n",
              "    outputElement.lastPromiseValue = value;\n",
              "    return next.value.response;\n",
              "  });\n",
              "}\n",
              "\n",
              "/**\n",
              " * Generator function which is called between each async step of the upload\n",
              " * process.\n",
              " * @param {string} inputId Element ID of the input file picker element.\n",
              " * @param {string} outputId Element ID of the output display.\n",
              " * @return {!Iterable<!Object>} Iterable of next steps.\n",
              " */\n",
              "function* uploadFilesStep(inputId, outputId) {\n",
              "  const inputElement = document.getElementById(inputId);\n",
              "  inputElement.disabled = false;\n",
              "\n",
              "  const outputElement = document.getElementById(outputId);\n",
              "  outputElement.innerHTML = '';\n",
              "\n",
              "  const pickedPromise = new Promise((resolve) => {\n",
              "    inputElement.addEventListener('change', (e) => {\n",
              "      resolve(e.target.files);\n",
              "    });\n",
              "  });\n",
              "\n",
              "  const cancel = document.createElement('button');\n",
              "  inputElement.parentElement.appendChild(cancel);\n",
              "  cancel.textContent = 'Cancel upload';\n",
              "  const cancelPromise = new Promise((resolve) => {\n",
              "    cancel.onclick = () => {\n",
              "      resolve(null);\n",
              "    };\n",
              "  });\n",
              "\n",
              "  // Wait for the user to pick the files.\n",
              "  const files = yield {\n",
              "    promise: Promise.race([pickedPromise, cancelPromise]),\n",
              "    response: {\n",
              "      action: 'starting',\n",
              "    }\n",
              "  };\n",
              "\n",
              "  cancel.remove();\n",
              "\n",
              "  // Disable the input element since further picks are not allowed.\n",
              "  inputElement.disabled = true;\n",
              "\n",
              "  if (!files) {\n",
              "    return {\n",
              "      response: {\n",
              "        action: 'complete',\n",
              "      }\n",
              "    };\n",
              "  }\n",
              "\n",
              "  for (const file of files) {\n",
              "    const li = document.createElement('li');\n",
              "    li.append(span(file.name, {fontWeight: 'bold'}));\n",
              "    li.append(span(\n",
              "        `(${file.type || 'n/a'}) - ${file.size} bytes, ` +\n",
              "        `last modified: ${\n",
              "            file.lastModifiedDate ? file.lastModifiedDate.toLocaleDateString() :\n",
              "                                    'n/a'} - `));\n",
              "    const percent = span('0% done');\n",
              "    li.appendChild(percent);\n",
              "\n",
              "    outputElement.appendChild(li);\n",
              "\n",
              "    const fileDataPromise = new Promise((resolve) => {\n",
              "      const reader = new FileReader();\n",
              "      reader.onload = (e) => {\n",
              "        resolve(e.target.result);\n",
              "      };\n",
              "      reader.readAsArrayBuffer(file);\n",
              "    });\n",
              "    // Wait for the data to be ready.\n",
              "    let fileData = yield {\n",
              "      promise: fileDataPromise,\n",
              "      response: {\n",
              "        action: 'continue',\n",
              "      }\n",
              "    };\n",
              "\n",
              "    // Use a chunked sending to avoid message size limits. See b/62115660.\n",
              "    let position = 0;\n",
              "    do {\n",
              "      const length = Math.min(fileData.byteLength - position, MAX_PAYLOAD_SIZE);\n",
              "      const chunk = new Uint8Array(fileData, position, length);\n",
              "      position += length;\n",
              "\n",
              "      const base64 = btoa(String.fromCharCode.apply(null, chunk));\n",
              "      yield {\n",
              "        response: {\n",
              "          action: 'append',\n",
              "          file: file.name,\n",
              "          data: base64,\n",
              "        },\n",
              "      };\n",
              "\n",
              "      let percentDone = fileData.byteLength === 0 ?\n",
              "          100 :\n",
              "          Math.round((position / fileData.byteLength) * 100);\n",
              "      percent.textContent = `${percentDone}% done`;\n",
              "\n",
              "    } while (position < fileData.byteLength);\n",
              "  }\n",
              "\n",
              "  // All done.\n",
              "  yield {\n",
              "    response: {\n",
              "      action: 'complete',\n",
              "    }\n",
              "  };\n",
              "}\n",
              "\n",
              "scope.google = scope.google || {};\n",
              "scope.google.colab = scope.google.colab || {};\n",
              "scope.google.colab._files = {\n",
              "  _uploadFiles,\n",
              "  _uploadFilesContinue,\n",
              "};\n",
              "})(self);\n",
              "</script> "
            ]
          },
          "metadata": {}
        },
        {
          "output_type": "stream",
          "name": "stdout",
          "text": [
            "Saving rclone.conf to rclone.conf\n",
            "User uploaded rclone config file.\n",
            "rclone configuration moved to ~/sync_task/\n"
          ]
        }
      ]
    },
    {
      "cell_type": "code",
      "source": [
        "!rclone lsd GDRIVE: --config ~/sync_task/rclone.conf && rclone lsd onedrive: --config ~/sync_task/rclone.conf"
      ],
      "metadata": {
        "colab": {
          "base_uri": "https://localhost:8080/"
        },
        "id": "T6bpgwzXj31L",
        "outputId": "a5ffa4f6-920b-4285-a541-5c5fe4582f0d"
      },
      "execution_count": 4,
      "outputs": [
        {
          "output_type": "stream",
          "name": "stdout",
          "text": [
            "           0 2023-06-08 12:56:40        -1 Colab Notebooks\n",
            "           0 2023-06-04 15:03:41        -1 DriveFire\n",
            "           0 2023-10-28 10:48:27        -1 DriveLeech\n",
            "           0 2024-06-30 23:43:50        -1 DriveSeed\n",
            "           0 2024-10-07 20:50:28        -1 GDFlix\n",
            "           0 2024-08-07 00:52:17        -1 GDToT\n",
            "           0 2022-09-03 12:33:40        -1 Katdrive\n",
            "           0 2018-12-29 16:29:28        -1 Sharer.pw\n",
            "           0 2023-06-08 11:23:31        -1 oldshit\n",
            "           0 2024-10-07 22:22:46        -1 shit\n",
            "          -1 2024-10-08 14:53:03         0 Apps\n",
            "          -1 2017-05-22 23:45:43         0 Attachments\n",
            "          -1 2024-10-08 15:23:36         0 media\n"
          ]
        }
      ]
    },
    {
      "cell_type": "code",
      "source": [
        "import subprocess\n",
        "\n",
        "# Define rclone command with logging\n",
        "command = \"rclone sync GDRIVE: onedrive: --config ~/sync_task/rclone.conf -v --log-file ~/sync_task/rclone.log --transfers 15 --checkers 64 --fast-list --cache-dir ~/sync_task/cache --temp-dir ~/sync_task/tmp\"\n",
        "rclone_process = subprocess.Popen(command, shell=True, stdout=subprocess.PIPE, stderr=subprocess.PIPE)"
      ],
      "metadata": {
        "id": "UxM1vcb9l8M8"
      },
      "execution_count": 8,
      "outputs": []
    },
    {
      "cell_type": "code",
      "source": [
        "import time\n",
        "from IPython.display import clear_output\n",
        "\n",
        "# Define monitoring period and duration\n",
        "log_check_interval = 10  # seconds\n",
        "keep_alive_message_interval = 60  # seconds\n",
        "\n",
        "last_message_time = 0\n",
        "\n",
        "while True:\n",
        "    # Check if the rclone process is still running\n",
        "    if rclone_process.poll() is not None:\n",
        "        print(\"rclone process has finished.\")\n",
        "        break\n",
        "\n",
        "    clear_output(wait=True)  # Clear the previous output\n",
        "\n",
        "    # Print last 30 lines of the log file\n",
        "    log_content = !tail -n 30 ~/sync_task/rclone.log\n",
        "    for line in log_content:\n",
        "        print(line)\n",
        "\n",
        "    # Print a keep-alive message\n",
        "    current_time = time.time()\n",
        "    if current_time - last_message_time > keep_alive_message_interval:\n",
        "        print(\"Still syncing...\")\n",
        "        last_message_time = current_time\n",
        "\n",
        "    # Sleep before checking the log again\n",
        "    time.sleep(log_check_interval)"
      ],
      "metadata": {
        "colab": {
          "base_uri": "https://localhost:8080/"
        },
        "id": "9HIdm316mJ8l",
        "outputId": "846b6b2e-5ebe-4cf0-8b9b-f88f539a0525"
      },
      "execution_count": 9,
      "outputs": [
        {
          "output_type": "stream",
          "name": "stdout",
          "text": [
            "2024/10/08 19:26:31 INFO  : oldshit/20180724_181350.mp4: Copied (new)\n",
            "2024/10/08 19:26:32 INFO  : oldshit/20180723_121510.mp4: Copied (new)\n",
            "2024/10/08 19:26:33 INFO  : oldshit/20180805_145623.mp4: Copied (new)\n",
            "2024/10/08 19:26:34 INFO  : oldshit/20180805_145610.mp4: Copied (new)\n",
            "2024/10/08 19:26:34 INFO  : oldshit/20180803_075816.mp4: Copied (new)\n",
            "2024/10/08 19:26:35 INFO  : oldshit/20180806_085413.mp4: Copied (new)\n",
            "2024/10/08 19:26:35 INFO  : oldshit/20180724_181404.mp4: Copied (new)\n",
            "2024/10/08 19:26:36 INFO  : oldshit/20180723_144001.mp4: Copied (new)\n",
            "2024/10/08 19:26:37 INFO  : oldshit/20180803_014053.mp4: Copied (new)\n",
            "2024/10/08 19:26:38 INFO  : oldshit/fghfgh.txt: Copied (new)\n",
            "2024/10/08 19:26:38 INFO  : oldshit/20180814_192004.mp4: Copied (new)\n",
            "2024/10/08 19:26:39 INFO  : oldshit/FH5_Fix_Repair_Steam_Generic.rar: Copied (new)\n",
            "2024/10/08 19:26:40 INFO  : oldshit/20180808_212054.mp4: Copied (new)\n",
            "2024/10/08 19:26:40 INFO  : oldshit/Forza Horizon 5 - Competitive Car List.xlsx: Copied (Rcat, new)\n",
            "2024/10/08 19:26:41 INFO  : oldshit/ForzaH5 Meta Car／Tune List.xlsx: Copied (Rcat, new)\n",
            "2024/10/08 19:26:41 INFO  : oldshit/20180814_093259.mp4: Copied (new)\n",
            "2024/10/08 19:26:41 INFO  : oldshit/gdlinks.txt: Copied (new)\n",
            "2024/10/08 19:26:42 INFO  : oldshit/20180814_192827.mp4: Copied (new)\n",
            "2024/10/08 19:26:42 INFO  : oldshit/IMG-20210706-WA0002.jpg: Copied (new)\n",
            "2024/10/08 19:26:43 INFO  : oldshit/TopTierRamen and seasons' FH5 Road Tune Sheet.xlsx: Copied (Rcat, new)\n",
            "2024/10/08 19:26:43 INFO  : oldshit/Untitled spreadsheet.xlsx: Copied (Rcat, new)\n",
            "2024/10/08 19:26:43 INFO  : oldshit/snosaes’ Meta Car List for Rivals／PVP.xlsx: Copied (Rcat, new)\n",
            "2024/10/08 19:26:43 INFO  : oldshit/20180810_174111.mp4: Copied (new)\n",
            "2024/10/08 19:26:44 INFO  : oldshit/20180818_151612.mp4: Copied (new)\n",
            "2024/10/08 19:26:45 INFO  : oldshit/20180816_173836.mp4: Copied (new)\n",
            "2024/10/08 19:26:46 INFO  : oldshit/20180816_123212.mp4: Copied (new)\n",
            "2024/10/08 19:26:49 INFO  : oldshit/20180715_142022.mp4: Copied (new)\n",
            "2024/10/08 19:26:49 INFO  : oldshit/20180816_173529.mp4: Copied (new)\n",
            "2024/10/08 19:26:50 INFO  : oldshit/20180727_211959.mp4: Copied (new)\n",
            "2024/10/08 19:26:55 INFO  : oldshit/20180715_134431.mp4: Copied (new)\n",
            "rclone process has finished.\n"
          ]
        }
      ]
    },
    {
      "cell_type": "code",
      "source": [
        "# Check if the process is still running\n",
        "if rclone_process.poll() is None:\n",
        "    rclone_process.terminate()\n",
        "    print(\"rclone process terminated.\")\n",
        "else:\n",
        "    print(\"rclone process is not running.\")"
      ],
      "metadata": {
        "colab": {
          "base_uri": "https://localhost:8080/"
        },
        "id": "Y_C-H2Lxmow7",
        "outputId": "5ada5db1-6f6e-48a9-b109-e04282324caa"
      },
      "execution_count": 10,
      "outputs": [
        {
          "output_type": "stream",
          "name": "stdout",
          "text": [
            "rclone process is not running.\n"
          ]
        }
      ]
    }
  ]
}